{
 "cells": [
  {
   "cell_type": "markdown",
   "metadata": {},
   "source": [
    "# UPI Fraud Detection - Model Training\n",
    "\n",
    "This notebook focuses on building and training machine learning models to detect fraudulent UPI transactions."
   ]
  },
  {
   "cell_type": "markdown",
   "metadata": {},
   "source": [
    "## 1. Import Required Libraries"
   ]
  },
  {
   "cell_type": "code",
   "execution_count": null,
   "metadata": {},
   "outputs": [],
   "source": [
    "# Data manipulation and analysis\n",
    "import pandas as pd\n",
    "import numpy as np\n",
    "import matplotlib.pyplot as plt\n",
    "import seaborn as sns\n",
    "import pickle\n",
    "import os\n",
    "import sys\n",
    "\n",
    "# Add project root to path for imports\n",
    "sys.path.append('..')\n",
    "\n",
    "# Import preprocessing functions\n",
    "from preprocessing.data_processor import preprocess_data, engineer_features\n",
    "\n",
    "# Feature processing\n",
    "from sklearn.preprocessing import StandardScaler, OneHotEncoder, LabelEncoder\n",
    "from sklearn.feature_selection import SelectKBest, chi2, RFE, SelectFromModel\n",
    "from sklearn.impute import SimpleImputer\n",
    "\n",
    "# Model building and evaluation\n",
    "from sklearn.model_selection import train_test_split, GridSearchCV, cross_val_score\n",
    "from sklearn.linear_model import LogisticRegression\n",
    "from sklearn.tree import DecisionTreeClassifier\n",
    "from sklearn.ensemble import RandomForestClassifier\n",
    "from sklearn.svm import SVC\n",
    "import xgboost as xgb\n",
    "from sklearn.metrics import confusion_matrix, classification_report, roc_curve, auc, precision_recall_curve\n",
    "\n",
    "# Set plot style\n",
    "plt.style.use('ggplot')\n",
    "sns.set(style=\"whitegrid\")\n",
    "\n",
    "# For reproducibility\n",
    "np.random.seed(42)"
   ]
  },
  {
   "cell_type": "markdown",
   "metadata": {},
   "source": [
    "## 2. Load and Explore the Dataset"
   ]
  },
  {
   "cell_type": "code",
   "execution_count": null,
   "metadata": {},
   "outputs": [],
   "source": [
    "# Load the dataset\n",
    "df = pd.read_csv('../attached_assets/Upi_fraud_dataset-checkpoint.csv')\n",
    "\n",
    "# Display the first few rows\n",
    "df.head()"
   ]
  },
  {
   "cell_type": "code",
   "execution_count": null,
   "metadata": {},
   "outputs": [],
   "source": [
    "# Check the shape of the dataset\n",
    "print(f\"Dataset shape: {df.shape}\")"
   ]
  },
  {
   "cell_type": "code",
   "execution_count": null,
   "metadata": {},
   "outputs": [],
   "source": [
    "# Check data types and information\n",
    "df.info()"
   ]
  },
  {
   "cell_type": "code",
   "execution_count": null,
   "metadata": {},
   "outputs": [],
   "source": [
    "# Check for missing values\n",
    "missing_values = df.isnull().sum()\n",
    "print(\"Missing values in each column:\")\n",
    "for col, count in zip(missing_values.index, missing_values.values):\n",
    "    if count > 0:\n",
    "        print(f\"{col}: {count} ({count/len(df)*100:.2f}%)\")"
   ]
  },
  {
   "cell_type": "code",
   "execution_count": null,
   "metadata": {},
   "outputs": [],
   "source": [
    "# Check the distribution of the target variable (FraudFlag)\n",
    "fraud_distribution = df['FraudFlag'].value_counts(normalize=True) * 100\n",
    "print(\"Distribution of fraud transactions:\")\n",
    "print(fraud_distribution)"
   ]
  },
  {
   "cell_type": "markdown",
   "metadata": {},
   "source": [
    "## 3. Data Preprocessing"
   ]
  },
  {
   "cell_type": "code",
   "execution_count": null,
   "metadata": {},
   "outputs": [],
   "source": [
    "# Convert Timestamp to datetime\n",
    "df['Timestamp'] = pd.to_datetime(df['Timestamp'])\n",
    "\n",
    "# Extract TransactionFrequency numeric value\n",
    "# Example format: '5/day', '3/day'\n",
    "df['TransactionFrequencyValue'] = df['TransactionFrequency'].str.split('/').str[0].astype(int)"
   ]
  },
  {
   "cell_type": "code",
   "execution_count": null,
   "metadata": {},
   "outputs": [],
   "source": [
    "# Handle any missing values if present\n",
    "# Fill missing numerical values with median\n",
    "numerical_cols = df.select_dtypes(include=['int64', 'float64']).columns\n",
    "for col in numerical_cols:\n",
    "    if df[col].isnull().sum() > 0:\n",
    "        df[col].fillna(df[col].median(), inplace=True)\n",
    "\n",
    "# Fill missing categorical values with mode\n",
    "categorical_cols = df.select_dtypes(include=['object']).columns\n",
    "for col in categorical_cols:\n",
    "    if df[col].isnull().sum() > 0:\n",
    "        df[col].fillna(df[col].mode()[0], inplace=True)\n",
    "\n",
    "# Convert boolean columns to integers\n",
    "bool_cols = ['UnusualLocation', 'UnusualAmount', 'NewDevice', 'FraudFlag']\n",
    "for col in bool_cols:\n",
    "    df[col] = df[col].astype(int)"
   ]
  },
  {
   "cell_type": "code",
   "execution_count": null,
   "metadata": {},
   "outputs": [],
   "source": [
    "# Check the data after preprocessing\n",
    "df.info()"
   ]
  },
  {
   "cell_type": "markdown",
   "metadata": {},
   "source": [
    "## 4. Feature Engineering"
   ]
  },
  {
   "cell_type": "code",
   "execution_count": null,
   "metadata": {},
   "outputs": [],
   "source": [
    "# Apply the feature engineering function\n",
    "df_engineered = engineer_features(df)\n",
    "\n",
    "# Display the new features\n",
    "new_columns = [col for col in df_engineered.columns if col not in df.columns]\n",
    "print(\"Newly created features:\")\n",
    "print(new_columns)\n",
    "df_engineered[new_columns].head()"
   ]
  },
  {
   "cell_type": "markdown",
   "metadata": {},
   "source": [
    "## 5. Data Preparation for Modeling"
   ]
  },
  {
   "cell_type": "code",
   "execution_count": null,
   "metadata": {},
   "outputs": [],
   "source": [
    "# Identify features and target\n",
    "# Exclude non-predictive columns like IDs, Timestamp, etc.\n",
    "exclude_cols = ['TransactionID', 'UserID', 'DeviceID', 'Timestamp', 'IPAddress', 'PhoneNumber', 'TransactionFrequency']\n",
    "target_col = 'FraudFlag'\n",
    "\n",
    "# Get features\n",
    "features = [col for col in df_engineered.columns if col not in exclude_cols and col != target_col]\n",
    "print(f\"Number of features: {len(features)}\")\n",
    "print(f\"Features: {features}\")"
   ]
  },
  {
   "cell_type": "code",
   "execution_count": null,
   "metadata": {},
   "outputs": [],
   "source": [
    "# Separate features and target\n",
    "X = df_engineered[features]\n",
    "y = df_engineered[target_col]\n",
    "\n",
    "# Split the data into training and testing sets\n",
    "X_train, X_test, y_train, y_test = train_test_split(X, y, test_size=0.2, random_state=42, stratify=y)"
   ]
  },
  {
   "cell_type": "code",
   "execution_count": null,
   "metadata": {},
   "outputs": [],
   "source": [
    "# Identify categorical and numerical features\n",
    "categorical_cols = X.select_dtypes(include=['object']).columns.tolist()\n",
    "numerical_cols = X.select_dtypes(include=['int64', 'float64']).columns.tolist()\n",
    "boolean_cols = ['UnusualLocation', 'UnusualAmount', 'NewDevice', 'IsWeekend', 'IsNightTime', 'HighRiskIP']\n",
    "\n",
    "# Remove boolean columns from numerical_cols\n",
    "numerical_cols = [col for col in numerical_cols if col not in boolean_cols]\n",
    "\n",
    "print(f\"Categorical columns: {categorical_cols}\")\n",
    "print(f\"Numerical columns: {numerical_cols}\")\n",
    "print(f\"Boolean columns: {boolean_cols}\")"
   ]
  },
  {
   "cell_type": "code",
   "execution_count": null,
   "metadata": {},
   "outputs": [],
   "source": [
    "# Preprocess the data\n",
    "# 1. One-hot encoding for categorical features\n",
    "if categorical_cols:\n",
    "    ohe = OneHotEncoder(sparse_output=False, handle_unknown='ignore')\n",
    "    ohe.fit(X_train[categorical_cols])\n",
    "    # Transform training data\n",
    "    cat_features_train = ohe.transform(X_train[categorical_cols])\n",
    "    cat_feature_names = ohe.get_feature_names_out(categorical_cols)\n",
    "    # Transform test data\n",
    "    cat_features_test = ohe.transform(X_test[categorical_cols])\n",
    "else:\n",
    "    cat_features_train = np.empty((X_train.shape[0], 0))\n",
    "    cat_features_test = np.empty((X_test.shape[0], 0))\n",
    "    cat_feature_names = []\n",
    "\n",
    "# 2. Scaling numerical features\n",
    "if numerical_cols:\n",
    "    scaler = StandardScaler()\n",
    "    scaler.fit(X_train[numerical_cols])\n",
    "    # Transform training data\n",
    "    num_features_train = scaler.transform(X_train[numerical_cols])\n",
    "    # Transform test data\n",
    "    num_features_test = scaler.transform(X_test[numerical_cols])\n",
    "else:\n",
    "    num_features_train = np.empty((X_train.shape[0], 0))\n",
    "    num_features_test = np.empty((X_test.shape[0], 0))\n",
    "\n",
    "# 3. Extract boolean features\n",
    "if boolean_cols:\n",
    "    bool_features_train = X_train[boolean_cols].values\n",
    "    bool_features_test = X_test[boolean_cols].values\n",
    "else:\n",
    "    bool_features_train = np.empty((X_train.shape[0], 0))\n",
    "    bool_features_test = np.empty((X_test.shape[0], 0))\n",
    "\n",
    "# 4. Combine all features\n",
    "X_train_processed = np.hstack((num_features_train, cat_features_train, bool_features_train))\n",
    "X_test_processed = np.hstack((num_features_test, cat_features_test, bool_features_test))\n",
    "\n",
    "# Create feature names for the processed data\n",
    "processed_feature_names = numerical_cols + list(cat_feature_names) + boolean_cols\n",
    "\n",
    "print(f\"Processed training data shape: {X_train_processed.shape}\")\n",
    "print(f\"Processed test data shape: {X_test_processed.shape}\")"
   ]
  },
  {
   "cell_type": "code",
   "execution_count": null,
   "metadata": {},
   "outputs": [],
   "source": [
    "# Save preprocessing objects for later use in the app\n",
    "preprocessing_objects = {\n",
    "    'ohe': ohe,\n",
    "    'scaler': scaler,\n",
    "    'categorical_cols': categorical_cols,\n",
    "    'numerical_cols': numerical_cols,\n",
    "    'boolean_cols': boolean_cols,\n",
    "    'final_features': processed_feature_names\n",
    "}\n",
    "\n",
    "# Create models directory if it doesn't exist\n",
    "os.makedirs('../models', exist_ok=True)\n",
    "\n",
    "# Save preprocessing objects\n",
    "with open('../models/preprocessing_objects.pkl', 'wb') as f:\n",
    "    pickle.dump(preprocessing_objects, f)"
   ]
  },
  {
   "cell_type": "markdown",
   "metadata": {},
   "source": [
    "## 6. Model Building and Evaluation"
   ]
  },
  {
   "cell_type": "code",
   "execution_count": null,
   "metadata": {},
   "outputs": [],
   "source": [
    "# Function to evaluate models\n",
    "def evaluate_model(model, X_train, X_test, y_train, y_test):\n",
    "    # Train the model\n",
    "    model.fit(X_train, y_train)\n",
    "    \n",
    "    # Make predictions\n",
    "    y_pred = model.predict(X_test)\n",
    "    \n",
    "    # Get probabilities if available\n",
    "    if hasattr(model, 'predict_proba'):\n",
    "        y_proba = model.predict_proba(X_test)[:, 1]\n",
    "    else:\n",
    "        y_proba = y_pred\n",
    "    \n",
    "    # Generate classification report\n",
    "    report = classification_report(y_test, y_pred, output_dict=True)\n",
    "    \n",
    "    # Calculate ROC-AUC if probabilities are available\n",
    "    roc_auc = auc(roc_curve(y_test, y_proba)[0], roc_curve(y_test, y_proba)[1])\n",
    "    \n",
    "    # Compile results\n",
    "    results = {\n",
    "        'accuracy': report['accuracy'],\n",
    "        'precision': report['1']['precision'] if '1' in report else report['1.0']['precision'],\n",
    "        'recall': report['1']['recall'] if '1' in report else report['1.0']['recall'],\n",
    "        'f1': report['1']['f1-score'] if '1' in report else report['1.0']['f1-score'],\n",
    "        'roc_auc': roc_auc\n",
    "    }\n",
    "    \n",
    "    return model, results"
   ]
  },
  {
   "cell_type": "code",
   "execution_count": null,
   "metadata": {},
   "outputs": [],
   "source": [
    "# Initialize models\n",
    "models = {\n",
    "    'Logistic Regression': LogisticRegression(max_iter=1000, class_weight='balanced', random_state=42),\n",
    "    'Decision Tree': DecisionTreeClassifier(class_weight='balanced', random_state=42),\n",
    "    'Random Forest': RandomForestClassifier(n_estimators=100, class_weight='balanced', random_state=42),\n",
    "    'SVM': SVC(probability=True, class_weight='balanced', random_state=42),\n",
    "    'XGBoost': xgb.XGBClassifier(use_label_encoder=False, eval_metric='logloss', random_state=42)\n",
    "}\n",
    "\n",
    "# Train and evaluate each model\n",
    "results = {}\n",
    "trained_models = {}\n",
    "\n",
    "for name, model in models.items():\n",
    "    print(f\"Training {name}...\")\n",
    "    trained_model, model_results = evaluate_model(model, X_train_processed, X_test_processed, y_train, y_test)\n",
    "    results[name] = model_results\n",
    "    trained_models[name] = trained_model\n",
    "    print(f\"{name} - Accuracy: {model_results['accuracy']:.4f}, Precision: {model_results['precision']:.4f}, Recall: {model_results['recall']:.4f}, F1: {model_results['f1']:.4f}, ROC-AUC: {model_results['roc_auc']:.4f}\\n\")"
   ]
  },
  {
   "cell_type": "code",
   "execution_count": null,
   "metadata": {},
   "outputs": [],
   "source": [
    "# Visualize model performance\n",
    "metrics = ['accuracy', 'precision', 'recall', 'f1', 'roc_auc']\n",
    "df_results = pd.DataFrame(results).T\n",
    "\n",
    "plt.figure(figsize=(15, 10))\n",
    "for i, metric in enumerate(metrics):\n",
    "    plt.subplot(2, 3, i+1)\n",
    "    sns.barplot(x=df_results.index, y=df_results[metric])\n",
    "    plt.title(f'Model Comparison - {metric.upper()}')\n",
    "    plt.xticks(rotation=45)\n",
    "    plt.xlabel('Model')\n",
    "    plt.ylabel(metric)\n",
    "plt.tight_layout()\n",
    "plt.show()"
   ]
  },
  {
   "cell_type": "code",
   "execution_count": null,
   "metadata": {},
   "outputs": [],
   "source": [
    "# Find the best model based on F1 score (good balance of precision and recall)\n",
    "best_model_name = df_results['f1'].idxmax()\n",
    "best_model = trained_models[best_model_name]\n",
    "print(f\"Best model based on F1 score: {best_model_name}\")\n",
    "print(f\"F1 score: {df_results.loc[best_model_name, 'f1']:.4f}\")\n",
    "print(f\"Accuracy: {df_results.loc[best_model_name, 'accuracy']:.4f}\")\n",
    "print(f\"Precision: {df_results.loc[best_model_name, 'precision']:.4f}\")\n",
    "print(f\"Recall: {df_results.loc[best_model_name, 'recall']:.4f}\")\n",
    "print(f\"ROC-AUC: {df_results.loc[best_model_name, 'roc_auc']:.4f}\")"
   ]
  },
  {
   "cell_type": "code",
   "execution_count": null,
   "metadata": {},
   "outputs": [],
   "source": [
    "# Confusion matrix for the best model\n",
    "y_pred = best_model.predict(X_test_processed)\n",
    "cm = confusion_matrix(y_test, y_pred)\n",
    "\n",
    "plt.figure(figsize=(8, 6))\n",
    "sns.heatmap(cm, annot=True, fmt='d', cmap='Blues', cbar=False,\n",
    "            xticklabels=['Not Fraud', 'Fraud'],\n",
    "            yticklabels=['Not Fraud', 'Fraud'])\n",
    "plt.title(f'Confusion Matrix - {best_model_name}')\n",
    "plt.xlabel('Predicted')\n",
    "plt.ylabel('Actual')\n",
    "plt.show()"
   ]
  },
  {
   "cell_type": "code",
   "execution_count": null,
   "metadata": {},
   "outputs": [],
   "source": [
    "# ROC Curve for all models\n",
    "plt.figure(figsize=(10, 8))\n",
    "\n",
    "for name, model in trained_models.items():\n",
    "    if hasattr(model, 'predict_proba'):\n",
    "        y_proba = model.predict_proba(X_test_processed)[:, 1]\n",
    "        fpr, tpr, _ = roc_curve(y_test, y_proba)\n",
    "        auc_score = auc(fpr, tpr)\n",
    "        plt.plot(fpr, tpr, label=f'{name} (AUC = {auc_score:.4f})')\n",
    "\n",
    "plt.plot([0, 1], [0, 1], 'k--')\n",
    "plt.xlabel('False Positive Rate')\n",
    "plt.ylabel('True Positive Rate')\n",
    "plt.title('ROC Curves')\n",
    "plt.legend(loc='lower right')\n",
    "plt.show()"
   ]
  },
  {
   "cell_type": "code",
   "execution_count": null,
   "metadata": {},
   "outputs": [],
   "source": [
    "# Feature Importance for the best model (if available)\n",
    "if hasattr(best_model, 'feature_importances_'):\n",
    "    # For tree-based models\n",
    "    importances = best_model.feature_importances_\n",
    "    indices = np.argsort(importances)[::-1]\n",
    "    \n",
    "    # Get the top 15 features\n",
    "    top_n = 15\n",
    "    top_indices = indices[:top_n]\n",
    "    top_features = [processed_feature_names[i] for i in top_indices]\n",
    "    top_importances = importances[top_indices]\n",
    "    \n",
    "    plt.figure(figsize=(10, 8))\n",
    "    sns.barplot(x=top_importances, y=top_features)\n",
    "    plt.title(f'Top {top_n} Feature Importances - {best_model_name}')\n",
    "    plt.xlabel('Importance')\n",
    "    plt.tight_layout()\n",
    "    plt.show()\n",
    "    \n",
    "elif hasattr(best_model, 'coef_'):\n",
    "    # For linear models\n",
    "    coefficients = best_model.coef_[0] if len(best_model.coef_.shape) > 1 else best_model.coef_\n",
    "    abs_coefficients = np.abs(coefficients)\n",
    "    indices = np.argsort(abs_coefficients)[::-1]\n",
    "    \n",
    "    # Get the top 15 features\n",
    "    top_n = 15\n",
    "    top_indices = indices[:top_n]\n",
    "    top_features = [processed_feature_names[i] for i in top_indices]\n",
    "    top_coefficients = coefficients[top_indices]\n",
    "    \n",
    "    plt.figure(figsize=(10, 8))\n",
    "    sns.barplot(x=top_coefficients, y=top_features)\n",
    "    plt.title(f'Top {top_n} Feature Coefficients - {best_model_name}')\n",
    "    plt.xlabel('Coefficient Value')\n",
    "    plt.axvline(x=0, color='k', linestyle='--')\n",
    "    plt.tight_layout()\n",
    "    plt.show()"
   ]
  },
  {
   "cell_type": "markdown",
   "metadata": {},
   "source": [
    "## 7. Save the Best Model"
   ]
  },
  {
   "cell_type": "code",
   "execution_count": null,
   "metadata": {},
   "outputs": [],
   "source": [
    "# Save the best model for use in the Streamlit app\n",
    "with open('../models/best_model.pkl', 'wb') as f:\n",
    "    pickle.dump(best_model, f)\n",
    "\n",
    "print(f\"Best model ({best_model_name}) saved to ../models/best_model.pkl\")"
   ]
  },
  {
   "cell_type": "code",
   "execution_count": null,
   "metadata": {},
   "outputs": [],
   "source": [
    "# Save model performance results for reference\n",
    "df_results.to_csv('../models/model_results.csv')\n",
    "print(\"Model performance results saved to ../models/model_results.csv\")"
   ]
  }
 ],
 "metadata": {
  "kernelspec": {
   "display_name": "Python 3",
   "language": "python",
   "name": "python3"
  },
  "language_info": {
   "codemirror_mode": {
    "name": "ipython",
    "version": 3
   },
   "file_extension": ".py",
   "mimetype": "text/x-python",
   "name": "python",
   "nbconvert_exporter": "python",
   "pygments_lexer": "ipython3",
   "version": "3.11.0"
  }
 },
 "nbformat": 4,
 "nbformat_minor": 4
}